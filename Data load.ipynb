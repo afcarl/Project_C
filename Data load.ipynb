{
 "cells": [
  {
   "cell_type": "code",
   "execution_count": null,
   "metadata": {
    "collapsed": false
   },
   "outputs": [],
   "source": [
    "%matplotlib inline\n",
    "import quandl\n",
    "import pandas as pd\n",
    "import matplotlib.pyplot as plt\n",
    "import numpy as np\n",
    "import seaborn as sns\n",
    "from core import *\n",
    "import math\n",
    "from datetime import datetime\n",
    "import statsmodels.api as sm\n",
    "from arctic import Arctic\n",
    "token=\"Us3wFmXGgAj_1cUtHAAR\"\n",
    "\n",
    "import pylab\n",
    "sns.set(font_scale=3)\n",
    "pylab.rcParams['figure.figsize'] = (24, 18)"
   ]
  },
  {
   "cell_type": "markdown",
   "metadata": {},
   "source": [
    "F\tJanuary\n",
    "G\tFebruary\n",
    "H\tMarch\n",
    "J\tApril\n",
    "K\tMay\n",
    "M\tJune\n",
    "N\tJuly\n",
    "Q\tAugust\n",
    "U\tSeptember\n",
    "V\tOctober\n",
    "X\tNovember\n",
    "Z\tDecember"
   ]
  },
  {
   "cell_type": "code",
   "execution_count": 2,
   "metadata": {
    "collapsed": true
   },
   "outputs": [],
   "source": [
    "list_of_markets=['C','JM','I','M','BB','J','CS','PP','L','V','JD','P','A','Y','B','FB']\n",
    "list_of_months = ['F','G','H','J','K','M','N','Q','U','V','X','Z']"
   ]
  },
  {
   "cell_type": "markdown",
   "metadata": {},
   "source": [
    "# Soybeans"
   ]
  },
  {
   "cell_type": "code",
   "execution_count": 3,
   "metadata": {
    "collapsed": false,
    "scrolled": false
   },
   "outputs": [
    {
     "name": "stdout",
     "output_type": "stream",
     "text": [
      "Missing G 2018\n",
      "Missing J 2018\n",
      "Missing M 2018\n",
      "Missing Q 2018\n",
      "Missing V 2018\n",
      "Missing Z 2018\n",
      "Missing F 2004\n",
      "Missing K 2004\n",
      "Missing U 2004\n",
      "Missing H 2003\n",
      "Missing X 2003\n",
      "Missing N 2002\n",
      "Missing M 2018\n",
      "Missing Q 2018\n",
      "Missing V 2018\n",
      "Missing Z 2018\n",
      "Missing F 2013\n",
      "Missing H 2013\n",
      "Missing K 2013\n",
      "Missing G 2012\n",
      "Missing N 2012\n",
      "Missing X 2012\n",
      "Missing J 2011\n",
      "Missing U 2010\n",
      "Missing M 2018\n",
      "Missing Q 2018\n",
      "Missing V 2018\n",
      "Missing Z 2018\n",
      "Missing F 2014\n",
      "Missing G 2013\n",
      "Missing J 2013\n",
      "Missing N 2013\n",
      "Missing X 2013\n",
      "Missing H 2012\n",
      "Missing U 2012\n",
      "Missing K 2011\n",
      "Missing G 2018\n",
      "Missing J 2018\n",
      "Missing M 2018\n",
      "Missing Q 2018\n",
      "Missing V 2018\n",
      "Missing Z 2018\n",
      "Missing N 2005\n",
      "Missing F 2002\n",
      "Missing K 2002\n",
      "Missing X 2002\n",
      "Missing H 2001\n",
      "Missing M 2018\n",
      "Missing Q 2018\n",
      "Missing V 2018\n",
      "Missing Z 2018\n",
      "Missing F 2014\n",
      "Missing H 2014\n",
      "Missing G 2013\n",
      "Missing K 2013\n",
      "Missing U 2013\n",
      "Missing J 2012\n",
      "Missing X 2012\n",
      "Missing N 2011\n",
      "Missing M 2018\n",
      "Missing Q 2018\n",
      "Missing V 2018\n",
      "Missing Z 2018\n",
      "Missing F 2011\n",
      "Missing H 2011\n",
      "Missing K 2011\n",
      "Missing G 2010\n",
      "Missing N 2010\n",
      "Missing X 2010\n",
      "Missing J 2009\n",
      "Missing U 2008\n",
      "Missing G 2018\n",
      "Missing J 2018\n",
      "Missing M 2018\n",
      "Missing Q 2018\n",
      "Missing V 2018\n",
      "Missing Z 2018\n",
      "Missing F 2015\n",
      "Missing H 2014\n",
      "Missing N 2014\n",
      "Missing X 2014\n",
      "Missing K 2013\n",
      "Missing U 2012\n",
      "Missing M 2018\n",
      "Missing Q 2018\n",
      "Missing V 2018\n",
      "Missing Z 2018\n",
      "Missing F 2014\n",
      "Missing H 2014\n",
      "Missing G 2013\n",
      "Missing K 2013\n",
      "Missing U 2013\n",
      "Missing J 2012\n",
      "Missing X 2012\n",
      "Missing N 2011\n",
      "Missing M 2018\n",
      "Missing Q 2018\n",
      "Missing V 2018\n",
      "Missing Z 2018\n",
      "Missing F 2007\n",
      "Missing H 2007\n",
      "Missing K 2007\n",
      "Missing U 2007\n",
      "Missing G 2006\n",
      "Missing N 2006\n",
      "Missing J 2005\n",
      "Missing X 2004\n",
      "Missing M 2018\n",
      "Missing Q 2018\n",
      "Missing V 2018\n",
      "Missing Z 2018\n",
      "Missing F 2009\n",
      "Missing H 2009\n",
      "Missing K 2009\n",
      "Missing G 2008\n",
      "Missing N 2008\n",
      "Missing X 2008\n",
      "Missing J 2007\n",
      "Missing U 2006\n",
      "Missing M 2018\n",
      "Missing Q 2018\n",
      "Missing V 2018\n",
      "Missing Z 2018\n",
      "Missing N 2016\n",
      "Missing F 2014\n",
      "Missing G 2013\n",
      "Missing J 2013\n",
      "Missing U 2013\n",
      "Missing H 2012\n",
      "Missing X 2012\n",
      "Missing K 2011\n",
      "Missing M 2018\n",
      "Missing Q 2018\n",
      "Missing V 2018\n",
      "Missing Z 2018\n",
      "Missing F 2007\n",
      "Missing H 2007\n",
      "Missing K 2007\n",
      "Missing U 2007\n",
      "Missing G 2006\n",
      "Missing N 2006\n",
      "Missing J 2005\n",
      "Missing X 2004\n",
      "Missing G 2018\n",
      "Missing J 2018\n",
      "Missing M 2018\n",
      "Missing Q 2018\n",
      "Missing V 2018\n",
      "Missing Z 2018\n",
      "Missing F 2003\n",
      "Missing H 2002\n",
      "Missing N 2002\n",
      "Missing X 2002\n",
      "Missing K 2001\n",
      "Missing G 2018\n",
      "Missing J 2018\n",
      "Missing M 2018\n",
      "Missing Q 2018\n",
      "Missing V 2018\n",
      "Missing Z 2018\n",
      "Missing H 2016\n",
      "Missing N 2016\n",
      "Missing X 2016\n",
      "Missing F 2015\n",
      "Missing U 2015\n",
      "Missing K 2014\n",
      "Missing F 2018\n",
      "Missing H 2018\n",
      "Missing K 2018\n",
      "Missing N 2018\n",
      "Missing U 2018\n",
      "Missing X 2018\n",
      "Missing G 2017\n",
      "Missing M 2017\n",
      "Missing V 2017\n",
      "Missing J 2016\n",
      "Missing Z 2016\n",
      "Missing Q 2015\n",
      "Missing F 2018\n",
      "Missing H 2018\n",
      "Missing K 2018\n",
      "Missing N 2018\n",
      "Missing U 2018\n",
      "Missing X 2018\n",
      "Missing G 2017\n",
      "Missing M 2017\n",
      "Missing V 2017\n",
      "Missing J 2016\n",
      "Missing Z 2016\n",
      "Missing Q 2015\n"
     ]
    }
   ],
   "source": [
    "for mkt in list_of_markets:\n",
    "    ticker='DCE/' + mkt\n",
    "    exchange='DCE'\n",
    "    price, OI = quandl_load_data(ticker)\n",
    "    intital_load(mkt,ticker,exchange,price,OI)"
   ]
  },
  {
   "cell_type": "code",
   "execution_count": null,
   "metadata": {
    "collapsed": true
   },
   "outputs": [],
   "source": []
  },
  {
   "cell_type": "code",
   "execution_count": null,
   "metadata": {
    "collapsed": true
   },
   "outputs": [],
   "source": []
  },
  {
   "cell_type": "code",
   "execution_count": null,
   "metadata": {
    "collapsed": true
   },
   "outputs": [],
   "source": []
  },
  {
   "cell_type": "code",
   "execution_count": null,
   "metadata": {
    "collapsed": true
   },
   "outputs": [],
   "source": []
  },
  {
   "cell_type": "markdown",
   "metadata": {},
   "source": [
    "# Arctic"
   ]
  },
  {
   "cell_type": "code",
   "execution_count": 4,
   "metadata": {
    "collapsed": false
   },
   "outputs": [
    {
     "name": "stderr",
     "output_type": "stream",
     "text": [
      "WARNING:arctic.store.version_store:Library created, but couldn't enable sharding: no such command: 'enablesharding', bad cmd: '{ enablesharding: \"arctic\" }'. This is OK if you're not 'admin'\n"
     ]
    }
   ],
   "source": [
    "# Using Arctic database to store\n",
    "store = Arctic('localhost')\n",
    "# Access the library\n",
    "store.initialize_library('CHINA_OI')\n",
    "\n",
    "price_table = store['CHINA_PX']\n",
    "OI_table = store['CHINA_OI']\n"
   ]
  },
  {
   "cell_type": "code",
   "execution_count": 5,
   "metadata": {
    "collapsed": false
   },
   "outputs": [
    {
     "ename": "NameError",
     "evalue": "global name 'mkt' is not defined",
     "output_type": "error",
     "traceback": [
      "\u001b[0;31m---------------------------------------------------------------------------\u001b[0m",
      "\u001b[0;31mNameError\u001b[0m                                 Traceback (most recent call last)",
      "\u001b[0;32m<ipython-input-5-34e86f8f6443>\u001b[0m in \u001b[0;36m<module>\u001b[0;34m()\u001b[0m\n\u001b[0;32m----> 1\u001b[0;31m \u001b[0mget_timeseries\u001b[0m\u001b[0;34m(\u001b[0m\u001b[0mmkt\u001b[0m\u001b[0;34m)\u001b[0m\u001b[0;34m.\u001b[0m\u001b[0mcumsum\u001b[0m\u001b[0;34m(\u001b[0m\u001b[0;34m)\u001b[0m\u001b[0;34m.\u001b[0m\u001b[0mplot\u001b[0m\u001b[0;34m(\u001b[0m\u001b[0;34m)\u001b[0m\u001b[0;34m\u001b[0m\u001b[0m\n\u001b[0m",
      "\u001b[0;32m/Users/mrefermat/git/FinancePhD/Project_C/core.py\u001b[0m in \u001b[0;36mget_timeseries\u001b[0;34m(market)\u001b[0m\n\u001b[1;32m     68\u001b[0m \u001b[0;31m# We could think about adding the 'adjusted' or total volume\u001b[0m\u001b[0;34m\u001b[0m\u001b[0;34m\u001b[0m\u001b[0m\n\u001b[1;32m     69\u001b[0m \u001b[0;32mdef\u001b[0m \u001b[0mget_timeseries\u001b[0m\u001b[0;34m(\u001b[0m\u001b[0mmarket\u001b[0m\u001b[0;34m)\u001b[0m\u001b[0;34m:\u001b[0m\u001b[0;34m\u001b[0m\u001b[0m\n\u001b[0;32m---> 70\u001b[0;31m         \u001b[0mprice\u001b[0m\u001b[0;34m=\u001b[0m\u001b[0mload_market_price\u001b[0m\u001b[0;34m(\u001b[0m\u001b[0mmarket\u001b[0m\u001b[0;34m)\u001b[0m\u001b[0;34m\u001b[0m\u001b[0m\n\u001b[0m\u001b[1;32m     71\u001b[0m         \u001b[0mvolume\u001b[0m\u001b[0;34m=\u001b[0m\u001b[0mload_market_open_interest\u001b[0m\u001b[0;34m(\u001b[0m\u001b[0mmarket\u001b[0m\u001b[0;34m)\u001b[0m\u001b[0;34m\u001b[0m\u001b[0m\n\u001b[1;32m     72\u001b[0m         \u001b[0;32mreturn\u001b[0m \u001b[0madjusted_returns\u001b[0m\u001b[0;34m(\u001b[0m\u001b[0mprice\u001b[0m\u001b[0;34m,\u001b[0m\u001b[0mvolume\u001b[0m\u001b[0;34m)\u001b[0m\u001b[0;34m.\u001b[0m\u001b[0mdropna\u001b[0m\u001b[0;34m(\u001b[0m\u001b[0;34m)\u001b[0m\u001b[0;34m\u001b[0m\u001b[0m\n",
      "\u001b[0;32m/Users/mrefermat/git/FinancePhD/Project_C/core.py\u001b[0m in \u001b[0;36mload_market_price\u001b[0;34m(market)\u001b[0m\n\u001b[1;32m     60\u001b[0m \u001b[0;34m\u001b[0m\u001b[0m\n\u001b[1;32m     61\u001b[0m \u001b[0;32mdef\u001b[0m \u001b[0mload_market_price\u001b[0m\u001b[0;34m(\u001b[0m\u001b[0mmarket\u001b[0m\u001b[0;34m)\u001b[0m\u001b[0;34m:\u001b[0m\u001b[0;34m\u001b[0m\u001b[0m\n\u001b[0;32m---> 62\u001b[0;31m         \u001b[0;32mreturn\u001b[0m \u001b[0mprice_table\u001b[0m\u001b[0;34m.\u001b[0m\u001b[0mread\u001b[0m\u001b[0;34m(\u001b[0m\u001b[0mmarket\u001b[0m\u001b[0;34m)\u001b[0m\u001b[0;34m.\u001b[0m\u001b[0mdata\u001b[0m\u001b[0;34m\u001b[0m\u001b[0m\n\u001b[0m\u001b[1;32m     63\u001b[0m \u001b[0;34m\u001b[0m\u001b[0m\n\u001b[1;32m     64\u001b[0m \u001b[0;32mdef\u001b[0m \u001b[0mload_market_open_interest\u001b[0m\u001b[0;34m(\u001b[0m\u001b[0mmarket\u001b[0m\u001b[0;34m)\u001b[0m\u001b[0;34m:\u001b[0m\u001b[0;34m\u001b[0m\u001b[0m\n",
      "\u001b[0;31mNameError\u001b[0m: global name 'mkt' is not defined"
     ]
    }
   ],
   "source": [
    "get_timeseries(mkt).cumsum().plot()\n"
   ]
  },
  {
   "cell_type": "code",
   "execution_count": null,
   "metadata": {
    "collapsed": true
   },
   "outputs": [],
   "source": []
  },
  {
   "cell_type": "code",
   "execution_count": null,
   "metadata": {
    "collapsed": true
   },
   "outputs": [],
   "source": []
  },
  {
   "cell_type": "code",
   "execution_count": null,
   "metadata": {
    "collapsed": true
   },
   "outputs": [],
   "source": []
  },
  {
   "cell_type": "code",
   "execution_count": null,
   "metadata": {
    "collapsed": true
   },
   "outputs": [],
   "source": []
  },
  {
   "cell_type": "code",
   "execution_count": null,
   "metadata": {
    "collapsed": true
   },
   "outputs": [],
   "source": []
  },
  {
   "cell_type": "code",
   "execution_count": null,
   "metadata": {
    "collapsed": true
   },
   "outputs": [],
   "source": []
  }
 ],
 "metadata": {
  "kernelspec": {
   "display_name": "Python 2",
   "language": "python",
   "name": "python2"
  },
  "language_info": {
   "codemirror_mode": {
    "name": "ipython",
    "version": 2
   },
   "file_extension": ".py",
   "mimetype": "text/x-python",
   "name": "python",
   "nbconvert_exporter": "python",
   "pygments_lexer": "ipython2",
   "version": "2.7.12"
  }
 },
 "nbformat": 4,
 "nbformat_minor": 0
}
