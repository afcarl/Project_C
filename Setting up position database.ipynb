{
 "cells": [
  {
   "cell_type": "code",
   "execution_count": 2,
   "metadata": {
    "collapsed": false
   },
   "outputs": [
    {
     "name": "stderr",
     "output_type": "stream",
     "text": [
      ":0: FutureWarning: IPython widgets are experimental and may change in the future.\n"
     ]
    }
   ],
   "source": [
    "%matplotlib inline\n",
    "from marketdata import *\n",
    "from model import *\n",
    "from trading import * \n",
    "from analytics import *\n",
    "import pandas as pd\n",
    "import matplotlib.pyplot as plt\n",
    "import numpy as np\n",
    "import seaborn as sns\n",
    "import math\n",
    "from datetime import datetime\n",
    "\n",
    "import pylab\n",
    "sns.set(font_scale=3)\n",
    "pylab.rcParams['figure.figsize'] = (24, 18)"
   ]
  },
  {
   "cell_type": "markdown",
   "metadata": {},
   "source": [
    "# Load data \n"
   ]
  },
  {
   "cell_type": "code",
   "execution_count": 3,
   "metadata": {
    "collapsed": false
   },
   "outputs": [],
   "source": [
    "FundAUM=50e6\n",
    "mkts=get_market_list()\n",
    "df=pd.DataFrame()\n",
    "for m in mkts:\n",
    "    try:\n",
    "        df[m]=get_timeseries(m)\n",
    "    except:\n",
    "        print m\n",
    "df=df.fillna(0)"
   ]
  },
  {
   "cell_type": "markdown",
   "metadata": {},
   "source": [
    "# Charts for email to be sent once data is gathered and signals calculated"
   ]
  },
  {
   "cell_type": "code",
   "execution_count": 5,
   "metadata": {
    "collapsed": false
   },
   "outputs": [
    {
     "data": {
      "text/plain": [
       "index\n",
       "A       0.0\n",
       "AG      0.0\n",
       "AL     31.0\n",
       "AU      0.0\n",
       "BU     79.0\n",
       "C     324.0\n",
       "CF      0.0\n",
       "CS    232.0\n",
       "CU     13.0\n",
       "FG     93.0\n",
       "HC     50.0\n",
       "I      23.0\n",
       "J       7.0\n",
       "L      52.0\n",
       "M    -106.0\n",
       "MA     87.0\n",
       "NI     25.0\n",
       "P      55.0\n",
       "PB      4.0\n",
       "PP     56.0\n",
       "RB     44.0\n",
       "RM   -124.0\n",
       "SN      0.0\n",
       "SR      0.0\n",
       "TA    151.0\n",
       "V      58.0\n",
       "Name: 2017-08-24 00:00:00, dtype: float64"
      ]
     },
     "execution_count": 5,
     "metadata": {},
     "output_type": "execute_result"
    }
   ],
   "source": [
    "get_current_position()"
   ]
  },
  {
   "cell_type": "code",
   "execution_count": 6,
   "metadata": {
    "collapsed": true
   },
   "outputs": [],
   "source": [
    "curr_px=get_most_liquid_price(mkts)"
   ]
  },
  {
   "cell_type": "code",
   "execution_count": 7,
   "metadata": {
    "collapsed": false
   },
   "outputs": [
    {
     "name": "stderr",
     "output_type": "stream",
     "text": [
      "model.py:8: FutureWarning: pd.ewm_std is deprecated for DataFrame and will be removed in a future version, replace with \n",
      "\tDataFrame.ewm(ignore_na=False,min_periods=20,adjust=True,com=20).std(bias=False)\n",
      "  vol=pd.ewmstd(data,vol_lookback,min_periods=vol_lookback)*math.sqrt(256)\n",
      "model.py:9: FutureWarning: pd.rolling_mean is deprecated for DataFrame and will be removed in a future version, replace with \n",
      "\tDataFrame.rolling(window=10,center=False).mean()\n",
      "  signal=pd.rolling_mean(data,signal_lookback)\n",
      "model.py:9: FutureWarning: pd.rolling_mean is deprecated for DataFrame and will be removed in a future version, replace with \n",
      "\tDataFrame.rolling(window=80,center=False).mean()\n",
      "  signal=pd.rolling_mean(data,signal_lookback)\n",
      "model.py:16: FutureWarning: pd.ewm_std is deprecated for DataFrame and will be removed in a future version, replace with \n",
      "\tDataFrame.ewm(ignore_na=False,min_periods=20,adjust=True,com=20).std(bias=False)\n",
      "  vol=pd.ewmstd(data,vol_lookback,min_periods=vol_lookback)*math.sqrt(256)\n",
      "model.py:17: FutureWarning: pd.rolling_mean is deprecated for DataFrame and will be removed in a future version, replace with \n",
      "\tDataFrame.rolling(window=10,center=False).mean()\n",
      "  signal=pd.rolling_mean(data,signal_lookback)\n",
      "model.py:17: FutureWarning: pd.rolling_mean is deprecated for DataFrame and will be removed in a future version, replace with \n",
      "\tDataFrame.rolling(window=80,center=False).mean()\n",
      "  signal=pd.rolling_mean(data,signal_lookback)\n"
     ]
    }
   ],
   "source": [
    "sh=10\n",
    "lg=80\n",
    "pos=tsmom_daily(df[mkts],sh)\n",
    "pnl_short=calc_pnl_wc(pos,df[mkts])\n",
    "pos=tsmom_daily(df[mkts],lg)\n",
    "pnl_long=calc_pnl_wc(pos,df[mkts])\n",
    "combined_pnl=(pnl_short*.5+pnl_long*.5)\n",
    "scaling_factor=calc_scaling_factor(combined_pnl)\n",
    "s_short=tsmom_daily_signal(df,sh)\n",
    "s_long=tsmom_daily_signal(df,lg)\n",
    "s_combined = (s_short*.60+s_long*.40)\n",
    "lots=calc_position(s_combined,FundAUM,scaling_factor,curr_px)"
   ]
  },
  {
   "cell_type": "code",
   "execution_count": 8,
   "metadata": {
    "collapsed": false
   },
   "outputs": [],
   "source": [
    "lots=calc_positions_two_lookbacks(10,80,mkts,df,FundAUM).dropna(how='all')"
   ]
  },
  {
   "cell_type": "code",
   "execution_count": 4,
   "metadata": {
    "collapsed": false
   },
   "outputs": [
    {
     "name": "stderr",
     "output_type": "stream",
     "text": [
      "WARNING:arctic.store.version_store:Library created, but couldn't enable sharding: no such command: 'enablesharding', bad cmd: '{ enablesharding: \"arctic\" }'. This is OK if you're not 'admin'\n"
     ]
    }
   ],
   "source": [
    "store.initialize_library('POSITION')\n",
    "position=store['POSITION']"
   ]
  },
  {
   "cell_type": "code",
   "execution_count": 9,
   "metadata": {
    "collapsed": false
   },
   "outputs": [
    {
     "data": {
      "text/plain": [
       "A       0.0\n",
       "AG      0.0\n",
       "AL     58.0\n",
       "AU     38.0\n",
       "BU    156.0\n",
       "C       0.0\n",
       "CF      0.0\n",
       "CS      0.0\n",
       "CU     25.0\n",
       "FG    180.0\n",
       "HC     91.0\n",
       "I      41.0\n",
       "J      13.0\n",
       "L     100.0\n",
       "M    -217.0\n",
       "MA    157.0\n",
       "NI     48.0\n",
       "P     110.0\n",
       "PB      0.0\n",
       "PP    106.0\n",
       "RB     83.0\n",
       "RM      0.0\n",
       "SN     53.0\n",
       "SR      0.0\n",
       "TA    297.0\n",
       "V     109.0\n",
       "Name: 2017-09-01 00:00:00, dtype: float64"
      ]
     },
     "execution_count": 9,
     "metadata": {},
     "output_type": "execute_result"
    }
   ],
   "source": [
    "lots.ix[-1]"
   ]
  },
  {
   "cell_type": "code",
   "execution_count": 11,
   "metadata": {
    "collapsed": true
   },
   "outputs": [],
   "source": [
    "def set_position(lots):\n",
    "    position=store['POSITION']\n",
    "    position.write('Current',lots)"
   ]
  },
  {
   "cell_type": "code",
   "execution_count": 18,
   "metadata": {
    "collapsed": false
   },
   "outputs": [],
   "source": [
    "old_position=get_current_position()\n",
    "new_position=lots.ix[-1]"
   ]
  },
  {
   "cell_type": "code",
   "execution_count": 14,
   "metadata": {
    "collapsed": false
   },
   "outputs": [
    {
     "data": {
      "text/plain": [
       "index\n",
       "A       0.0\n",
       "AG      0.0\n",
       "AL    -27.0\n",
       "AU    -38.0\n",
       "BU    -77.0\n",
       "C     324.0\n",
       "CF      0.0\n",
       "CS    232.0\n",
       "CU    -12.0\n",
       "FG    -87.0\n",
       "HC    -41.0\n",
       "I     -18.0\n",
       "J      -6.0\n",
       "L     -48.0\n",
       "M     111.0\n",
       "MA    -70.0\n",
       "NI    -23.0\n",
       "P     -55.0\n",
       "PB      4.0\n",
       "PP    -50.0\n",
       "RB    -39.0\n",
       "RM   -124.0\n",
       "SN    -53.0\n",
       "SR      0.0\n",
       "TA   -146.0\n",
       "V     -51.0\n",
       "dtype: float64"
      ]
     },
     "execution_count": 14,
     "metadata": {},
     "output_type": "execute_result"
    }
   ],
   "source": [
    "lots2-lots.ix[-1]"
   ]
  },
  {
   "cell_type": "code",
   "execution_count": 17,
   "metadata": {
    "collapsed": true
   },
   "outputs": [],
   "source": [
    "def _calculated_new_trades(new_position):\n",
    "    old_position=get_current_position()\n",
    "    trades=new_position-old_position\n",
    "    set_position(new_position)\n",
    "    return trades\n",
    "    "
   ]
  },
  {
   "cell_type": "code",
   "execution_count": 19,
   "metadata": {
    "collapsed": false
   },
   "outputs": [
    {
     "data": {
      "text/plain": [
       "A       0.0\n",
       "AG      0.0\n",
       "AL     27.0\n",
       "AU     38.0\n",
       "BU     77.0\n",
       "C    -324.0\n",
       "CF      0.0\n",
       "CS   -232.0\n",
       "CU     12.0\n",
       "FG     87.0\n",
       "HC     41.0\n",
       "I      18.0\n",
       "J       6.0\n",
       "L      48.0\n",
       "M    -111.0\n",
       "MA     70.0\n",
       "NI     23.0\n",
       "P      55.0\n",
       "PB     -4.0\n",
       "PP     50.0\n",
       "RB     39.0\n",
       "RM    124.0\n",
       "SN     53.0\n",
       "SR      0.0\n",
       "TA    146.0\n",
       "V      51.0\n",
       "dtype: float64"
      ]
     },
     "execution_count": 19,
     "metadata": {},
     "output_type": "execute_result"
    }
   ],
   "source": [
    "calculated_new_trades(new_position)"
   ]
  },
  {
   "cell_type": "code",
   "execution_count": null,
   "metadata": {
    "collapsed": true
   },
   "outputs": [],
   "source": []
  }
 ],
 "metadata": {
  "kernelspec": {
   "display_name": "Python 2",
   "language": "python",
   "name": "python2"
  }
 },
 "nbformat": 4,
 "nbformat_minor": 0
}
