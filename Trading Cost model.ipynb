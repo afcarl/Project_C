{
 "cells": [
  {
   "cell_type": "code",
   "execution_count": null,
   "metadata": {
    "collapsed": false
   },
   "outputs": [],
   "source": [
    "%matplotlib inline\n",
    "import quandl\n",
    "import pandas as pd\n",
    "import matplotlib.pyplot as plt\n",
    "import numpy as np\n",
    "import seaborn as sns\n",
    "from marketdata import *\n",
    "from model import *\n",
    "from analytics import *\n",
    "import math\n",
    "from datetime import datetime\n",
    "import statsmodels.api as sm\n",
    "from arctic import Arctic\n",
    "\n",
    "import pylab\n",
    "sns.set(font_scale=3)\n",
    "pylab.rcParams['figure.figsize'] = (24, 18)"
   ]
  },
  {
   "cell_type": "code",
   "execution_count": null,
   "metadata": {
    "collapsed": true
   },
   "outputs": [],
   "source": [
    "list_of_markets=['C','JM','I','M','BB','J','CS','PP','L','V','JD','P','A','Y']"
   ]
  },
  {
   "cell_type": "code",
   "execution_count": null,
   "metadata": {
    "collapsed": false
   },
   "outputs": [],
   "source": [
    "df=pd.DataFrame()\n",
    "for m in list_of_markets:\n",
    "    try:\n",
    "        df[m]=get_timeseries(m)\n",
    "    except:\n",
    "        break"
   ]
  },
  {
   "cell_type": "markdown",
   "metadata": {},
   "source": [
    "# Building trading cost model"
   ]
  },
  {
   "cell_type": "code",
   "execution_count": null,
   "metadata": {
    "collapsed": false
   },
   "outputs": [],
   "source": [
    "pos=tsmom_daily(df,250)\n",
    "rtn=pd.DataFrame()\n",
    "pnl_bc=calc_pnl(pos,df)\n",
    "rtn['BC']=ew_portfolio_pnl(pnl_bc)\n",
    "pnl_ac=calc_pnl_wc(pos,df,fee=.001)\n",
    "rtn['AC']=ew_portfolio_pnl(pnl_ac)\n",
    "rtn.cumsum().plot(colormap='jet')"
   ]
  },
  {
   "cell_type": "code",
   "execution_count": null,
   "metadata": {
    "collapsed": false
   },
   "outputs": [],
   "source": [
    "rtn.std()*16"
   ]
  },
  {
   "cell_type": "code",
   "execution_count": null,
   "metadata": {
    "collapsed": false
   },
   "outputs": [],
   "source": [
    "pos=ewma_mom_daily(df,20,60)\n",
    "rtn=pd.DataFrame()\n",
    "pnl_bc=calc_pnl(pos,df)\n",
    "rtn['BC']=ew_portfolio_pnl(pnl_bc)\n",
    "pnl_ac=calc_pnl_wc(pos,df,fee=.001)\n",
    "rtn['AC']=ew_portfolio_pnl(pnl_ac)\n",
    "rtn.cumsum().plot(colormap='jet')"
   ]
  },
  {
   "cell_type": "code",
   "execution_count": null,
   "metadata": {
    "collapsed": false
   },
   "outputs": [],
   "source": [
    "rtn.std()"
   ]
  },
  {
   "cell_type": "code",
   "execution_count": null,
   "metadata": {
    "collapsed": true
   },
   "outputs": [],
   "source": []
  },
  {
   "cell_type": "code",
   "execution_count": null,
   "metadata": {
    "collapsed": true
   },
   "outputs": [],
   "source": []
  }
 ],
 "metadata": {
  "kernelspec": {
   "display_name": "Python 2",
   "language": "python",
   "name": "python2"
  }
 },
 "nbformat": 4,
 "nbformat_minor": 0
}
