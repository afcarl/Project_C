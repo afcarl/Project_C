{
 "cells": [
  {
   "cell_type": "code",
   "execution_count": 1,
   "metadata": {
    "collapsed": false
   },
   "outputs": [
    {
     "name": "stderr",
     "output_type": "stream",
     "text": [
      ":0: FutureWarning: IPython widgets are experimental and may change in the future.\n"
     ]
    }
   ],
   "source": [
    "%matplotlib inline\n",
    "from marketdata import *\n",
    "from model import *\n",
    "from analytics import *\n",
    "import pandas as pd\n",
    "import matplotlib.pyplot as plt\n",
    "import numpy as np\n",
    "import seaborn as sns\n",
    "from datetime import datetime\n",
    "\n",
    "import pylab\n",
    "sns.set(font_scale=3)\n",
    "pylab.rcParams['figure.figsize'] = (24, 18)"
   ]
  },
  {
   "cell_type": "markdown",
   "metadata": {},
   "source": [
    "# Load data \n"
   ]
  },
  {
   "cell_type": "code",
   "execution_count": 2,
   "metadata": {
    "collapsed": true
   },
   "outputs": [],
   "source": [
    "FundAUM=1e9"
   ]
  },
  {
   "cell_type": "code",
   "execution_count": 3,
   "metadata": {
    "collapsed": false
   },
   "outputs": [],
   "source": [
    "mkts=get_market_list()\n",
    "curr_px=get_most_liquid_price(mkts)\n",
    "df=pd.DataFrame()\n",
    "for m in mkts:\n",
    "    df[m]=get_timeseries(m)"
   ]
  },
  {
   "cell_type": "markdown",
   "metadata": {},
   "source": [
    "# Portfolio with two different look backs with standard breakout models\n",
    "\n",
    "* Models with 10 days and 80 days have the most diversification thus the most reduced drawdown"
   ]
  },
  {
   "cell_type": "code",
   "execution_count": 4,
   "metadata": {
    "collapsed": false
   },
   "outputs": [
    {
     "name": "stderr",
     "output_type": "stream",
     "text": [
      "model.py:8: FutureWarning: pd.ewm_std is deprecated for DataFrame and will be removed in a future version, replace with \n",
      "\tDataFrame.ewm(ignore_na=False,min_periods=20,adjust=True,com=20).std(bias=False)\n",
      "  vol=pd.ewmstd(data,vol_lookback,min_periods=vol_lookback)*math.sqrt(256)\n",
      "model.py:9: FutureWarning: pd.rolling_mean is deprecated for DataFrame and will be removed in a future version, replace with \n",
      "\tDataFrame.rolling(window=10,center=False).mean()\n",
      "  signal=pd.rolling_mean(data,signal_lookback)\n",
      "model.py:9: FutureWarning: pd.rolling_mean is deprecated for DataFrame and will be removed in a future version, replace with \n",
      "\tDataFrame.rolling(window=80,center=False).mean()\n",
      "  signal=pd.rolling_mean(data,signal_lookback)\n",
      "model.py:16: FutureWarning: pd.ewm_std is deprecated for DataFrame and will be removed in a future version, replace with \n",
      "\tDataFrame.ewm(ignore_na=False,min_periods=20,adjust=True,com=20).std(bias=False)\n",
      "  vol=pd.ewmstd(data,vol_lookback,min_periods=vol_lookback)*math.sqrt(256)\n",
      "model.py:17: FutureWarning: pd.rolling_mean is deprecated for DataFrame and will be removed in a future version, replace with \n",
      "\tDataFrame.rolling(window=10,center=False).mean()\n",
      "  signal=pd.rolling_mean(data,signal_lookback)\n",
      "model.py:17: FutureWarning: pd.rolling_mean is deprecated for DataFrame and will be removed in a future version, replace with \n",
      "\tDataFrame.rolling(window=80,center=False).mean()\n",
      "  signal=pd.rolling_mean(data,signal_lookback)\n"
     ]
    }
   ],
   "source": [
    "pos=tsmom_daily(df[mkts],10)\n",
    "pnl_short=calc_pnl_wc(pos,df[mkts])\n",
    "pos=tsmom_daily(df[mkts],80)\n",
    "pnl_long=calc_pnl_wc(pos,df[mkts])\n",
    "combined_pnl=(pnl_short*.5+pnl_long*.5)\n",
    "scaling_factor=calc_scaling_factor(combined_pnl)\n",
    "s_short=tsmom_daily_signal(df,10)\n",
    "s_long=tsmom_daily_signal(df,80)\n",
    "s_combined = (s_short*.5+s_long*.5)\n",
    "lots=calc_position(s_combined,FundAUM,scaling_factor,curr_px)"
   ]
  },
  {
   "cell_type": "code",
   "execution_count": null,
   "metadata": {
    "collapsed": true
   },
   "outputs": [],
   "source": []
  },
  {
   "cell_type": "code",
   "execution_count": 5,
   "metadata": {
    "collapsed": false
   },
   "outputs": [
    {
     "ename": "NameError",
     "evalue": "name 'gross_pnl' is not defined",
     "output_type": "error",
     "traceback": [
      "\u001b[0;31m---------------------------------------------------------------------------\u001b[0m",
      "\u001b[0;31mNameError\u001b[0m                                 Traceback (most recent call last)",
      "\u001b[0;32m<ipython-input-5-fc16348a0a40>\u001b[0m in \u001b[0;36m<module>\u001b[0;34m()\u001b[0m\n\u001b[0;32m----> 1\u001b[0;31m \u001b[0mcalc_net_performance\u001b[0m\u001b[0;34m(\u001b[0m\u001b[0mgross_pnl\u001b[0m\u001b[0;34m,\u001b[0m\u001b[0mmanagement_fee\u001b[0m\u001b[0;34m,\u001b[0m\u001b[0mperformance_fee\u001b[0m\u001b[0;34m)\u001b[0m\u001b[0;34m.\u001b[0m\u001b[0mplot\u001b[0m\u001b[0;34m(\u001b[0m\u001b[0mcolormap\u001b[0m\u001b[0;34m=\u001b[0m\u001b[0;34m'jet'\u001b[0m\u001b[0;34m,\u001b[0m\u001b[0mtitle\u001b[0m\u001b[0;34m=\u001b[0m\u001b[0;34m'Net Performance'\u001b[0m\u001b[0;34m)\u001b[0m\u001b[0;34m\u001b[0m\u001b[0m\n\u001b[0m",
      "\u001b[0;31mNameError\u001b[0m: name 'gross_pnl' is not defined"
     ]
    }
   ],
   "source": [
    "calc_net_performance(gross_pnl,management_fee,performance_fee).plot(colormap='jet',title='Net Performance')"
   ]
  },
  {
   "cell_type": "code",
   "execution_count": null,
   "metadata": {
    "collapsed": false
   },
   "outputs": [],
   "source": [
    "management_fee = 0.015\n",
    "performance_fee = 0.2\n",
    "mul=get_contract_multipliers()[df.columns]\n",
    "cost=cost_model_position(lots,curr_px,mul,fee=0.0003)"
   ]
  },
  {
   "cell_type": "code",
   "execution_count": null,
   "metadata": {
    "collapsed": true
   },
   "outputs": [],
   "source": [
    "PNL = calc_pnl_position_wc(lots,df,curr_px,0.0003)/FundAUM"
   ]
  },
  {
   "cell_type": "code",
   "execution_count": null,
   "metadata": {
    "collapsed": false
   },
   "outputs": [],
   "source": [
    "gross_pnl=PNL.dropna(how='all').sum(axis=1).resample(rule='m',how='sum')\n",
    "calc_net_performance(gross_pnl,management_fee,performance_fee).plot(colormap='jet',title='Net Performance')"
   ]
  },
  {
   "cell_type": "code",
   "execution_count": null,
   "metadata": {
    "collapsed": false
   },
   "outputs": [],
   "source": [
    "HL=pd.read_csv('HL.csv',parse_dates=['Date']).set_index('Date').resample(rule='m',how='last')"
   ]
  },
  {
   "cell_type": "markdown",
   "metadata": {},
   "source": [
    "# Calculating fees"
   ]
  },
  {
   "cell_type": "code",
   "execution_count": null,
   "metadata": {
    "collapsed": true
   },
   "outputs": [],
   "source": [
    "management_fee = 0.015\n",
    "performance_fee = 0.2"
   ]
  },
  {
   "cell_type": "code",
   "execution_count": null,
   "metadata": {
    "collapsed": false
   },
   "outputs": [],
   "source": [
    "gross_pnl=PNL.dropna(how='all').sum(axis=1).resample(rule='m',how='sum')"
   ]
  },
  {
   "cell_type": "code",
   "execution_count": null,
   "metadata": {
    "collapsed": false
   },
   "outputs": [],
   "source": [
    "calc_net_performance(gross_pnl,management_fee,performance_fee).plot(colormap='jet',title='Net Performance')"
   ]
  },
  {
   "cell_type": "code",
   "execution_count": null,
   "metadata": {
    "collapsed": false
   },
   "outputs": [],
   "source": [
    "x=calc_net_performance(gross_pnl,management_fee,performance_fee)"
   ]
  },
  {
   "cell_type": "code",
   "execution_count": null,
   "metadata": {
    "collapsed": false
   },
   "outputs": [],
   "source": [
    "df=pd.DataFrame()\n",
    "df['HL']=HL.SP\n",
    "df['Net of fees'] =x[HL.index].dropna()"
   ]
  },
  {
   "cell_type": "code",
   "execution_count": null,
   "metadata": {
    "collapsed": false
   },
   "outputs": [],
   "source": [
    "df.pct_change().cumsum().dropna().plot(colormap='jet')"
   ]
  },
  {
   "cell_type": "code",
   "execution_count": null,
   "metadata": {
    "collapsed": false
   },
   "outputs": [],
   "source": [
    "df.pct_change().corr()"
   ]
  },
  {
   "cell_type": "code",
   "execution_count": null,
   "metadata": {
    "collapsed": true
   },
   "outputs": [],
   "source": []
  },
  {
   "cell_type": "code",
   "execution_count": null,
   "metadata": {
    "collapsed": true
   },
   "outputs": [],
   "source": []
  }
 ],
 "metadata": {
  "kernelspec": {
   "display_name": "Python 2",
   "language": "python",
   "name": "python2"
  },
  "language_info": {
   "codemirror_mode": {
    "name": "ipython",
    "version": 2
   },
   "file_extension": ".py",
   "mimetype": "text/x-python",
   "name": "python",
   "nbconvert_exporter": "python",
   "pygments_lexer": "ipython2",
   "version": "2.7.12"
  }
 },
 "nbformat": 4,
 "nbformat_minor": 0
}
