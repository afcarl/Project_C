{
 "cells": [
  {
   "cell_type": "code",
   "execution_count": 1,
   "metadata": {
    "collapsed": false
   },
   "outputs": [
    {
     "name": "stderr",
     "output_type": "stream",
     "text": [
      ":0: FutureWarning: IPython widgets are experimental and may change in the future.\n"
     ]
    }
   ],
   "source": [
    "%matplotlib inline\n",
    "from marketdata import *\n",
    "from model import *\n",
    "from analytics import *\n",
    "import pandas as pd\n",
    "import matplotlib.pyplot as plt\n",
    "import numpy as np\n",
    "import seaborn as sns\n",
    "import math\n",
    "from datetime import datetime\n",
    "\n",
    "import pylab\n",
    "sns.set(font_scale=3)\n",
    "pylab.rcParams['figure.figsize'] = (24, 18)"
   ]
  },
  {
   "cell_type": "markdown",
   "metadata": {},
   "source": [
    "# Load data \n"
   ]
  },
  {
   "cell_type": "code",
   "execution_count": 2,
   "metadata": {
    "collapsed": true
   },
   "outputs": [],
   "source": [
    "FundAUM=1e9"
   ]
  },
  {
   "cell_type": "code",
   "execution_count": 3,
   "metadata": {
    "collapsed": false
   },
   "outputs": [],
   "source": [
    "mkts=get_market_list()\n",
    "curr_px=get_most_liquid_price(mkts)\n",
    "df=pd.DataFrame()\n",
    "for m in mkts:\n",
    "    df[m]=get_timeseries(m)"
   ]
  },
  {
   "cell_type": "markdown",
   "metadata": {},
   "source": [
    "# Idea is to add two different look back signals to the same model\n",
    "\n",
    "* In theory every level should be vol scaled to ensure equal risk allocation (signal, market, and fund level as we don't have sectors here)\n",
    "* Need to get the scaling factor correct.  Problably best to get the scaling factor correct in signal space then "
   ]
  },
  {
   "cell_type": "code",
   "execution_count": null,
   "metadata": {
    "collapsed": false,
    "scrolled": true
   },
   "outputs": [
    {
     "name": "stderr",
     "output_type": "stream",
     "text": [
      "model.py:8: FutureWarning: pd.ewm_std is deprecated for DataFrame and will be removed in a future version, replace with \n",
      "\tDataFrame.ewm(ignore_na=False,min_periods=20,adjust=True,com=20).std(bias=False)\n",
      "  vol=pd.ewmstd(data,vol_lookback,min_periods=vol_lookback)*math.sqrt(256)\n",
      "model.py:9: FutureWarning: pd.rolling_mean is deprecated for DataFrame and will be removed in a future version, replace with \n",
      "\tDataFrame.rolling(window=10,center=False).mean()\n",
      "  signal=pd.rolling_mean(data,signal_lookback)\n",
      "model.py:9: FutureWarning: pd.rolling_mean is deprecated for DataFrame and will be removed in a future version, replace with \n",
      "\tDataFrame.rolling(window=20,center=False).mean()\n",
      "  signal=pd.rolling_mean(data,signal_lookback)\n",
      "model.py:16: FutureWarning: pd.ewm_std is deprecated for DataFrame and will be removed in a future version, replace with \n",
      "\tDataFrame.ewm(ignore_na=False,min_periods=20,adjust=True,com=20).std(bias=False)\n",
      "  vol=pd.ewmstd(data,vol_lookback,min_periods=vol_lookback)*math.sqrt(256)\n",
      "model.py:17: FutureWarning: pd.rolling_mean is deprecated for DataFrame and will be removed in a future version, replace with \n",
      "\tDataFrame.rolling(window=10,center=False).mean()\n",
      "  signal=pd.rolling_mean(data,signal_lookback)\n",
      "model.py:17: FutureWarning: pd.rolling_mean is deprecated for DataFrame and will be removed in a future version, replace with \n",
      "\tDataFrame.rolling(window=20,center=False).mean()\n",
      "  signal=pd.rolling_mean(data,signal_lookback)\n",
      "model.py:9: FutureWarning: pd.rolling_mean is deprecated for DataFrame and will be removed in a future version, replace with \n",
      "\tDataFrame.rolling(window=30,center=False).mean()\n",
      "  signal=pd.rolling_mean(data,signal_lookback)\n",
      "model.py:17: FutureWarning: pd.rolling_mean is deprecated for DataFrame and will be removed in a future version, replace with \n",
      "\tDataFrame.rolling(window=30,center=False).mean()\n",
      "  signal=pd.rolling_mean(data,signal_lookback)\n",
      "model.py:9: FutureWarning: pd.rolling_mean is deprecated for DataFrame and will be removed in a future version, replace with \n",
      "\tDataFrame.rolling(window=40,center=False).mean()\n",
      "  signal=pd.rolling_mean(data,signal_lookback)\n",
      "model.py:17: FutureWarning: pd.rolling_mean is deprecated for DataFrame and will be removed in a future version, replace with \n",
      "\tDataFrame.rolling(window=40,center=False).mean()\n",
      "  signal=pd.rolling_mean(data,signal_lookback)\n",
      "model.py:9: FutureWarning: pd.rolling_mean is deprecated for DataFrame and will be removed in a future version, replace with \n",
      "\tDataFrame.rolling(window=50,center=False).mean()\n",
      "  signal=pd.rolling_mean(data,signal_lookback)\n",
      "model.py:17: FutureWarning: pd.rolling_mean is deprecated for DataFrame and will be removed in a future version, replace with \n",
      "\tDataFrame.rolling(window=50,center=False).mean()\n",
      "  signal=pd.rolling_mean(data,signal_lookback)\n",
      "model.py:9: FutureWarning: pd.rolling_mean is deprecated for DataFrame and will be removed in a future version, replace with \n",
      "\tDataFrame.rolling(window=60,center=False).mean()\n",
      "  signal=pd.rolling_mean(data,signal_lookback)\n"
     ]
    }
   ],
   "source": [
    "pnl_combinations = pd.DataFrame()\n",
    "for sh in range(10,60,10):\n",
    "    for lg in range(20,100,10):\n",
    "        if lg<=sh:\n",
    "            continue\n",
    "        pos=tsmom_daily(df[mkts],sh)\n",
    "        pnl_short=calc_pnl_wc(pos,df[mkts])\n",
    "        pos=tsmom_daily(df[mkts],lg)\n",
    "        pnl_long=calc_pnl_wc(pos,df[mkts])\n",
    "        combined_pnl=(pnl_short*.5+pnl_long*.5)\n",
    "        scaling_factor=calc_scaling_factor(combined_pnl)\n",
    "        s_short=tsmom_daily_signal(df,sh)\n",
    "        s_long=tsmom_daily_signal(df,lg)\n",
    "        s_combined = (s_short*.5+s_long*.5)\n",
    "        lots=calc_position(s_combined,FundAUM,scaling_factor,curr_px)\n",
    "        PNL = calc_pnl_position_wc(lots,df,curr_px,0.0003)\n",
    "        pnl_combinations[str(sh)+','+str(lg)]=(PNL.sum(axis=1)/FundAUM).dropna()       "
   ]
  },
  {
   "cell_type": "code",
   "execution_count": null,
   "metadata": {
    "collapsed": false
   },
   "outputs": [],
   "source": [
    "pnl_combinations['2006':].cumsum().plot(colormap='jet')"
   ]
  },
  {
   "cell_type": "code",
   "execution_count": null,
   "metadata": {
    "collapsed": false
   },
   "outputs": [],
   "source": [
    "calc_Sharpe(pnl_combinations['2006':]).plot(kind='bar',colormap='jet')"
   ]
  },
  {
   "cell_type": "code",
   "execution_count": null,
   "metadata": {
    "collapsed": false
   },
   "outputs": [],
   "source": [
    "temp=(pnl_combinations.resample(rule='m',how='sum')+1).cumprod()\n",
    "(temp/pd.rolling_max(temp,1000000,min_periods=1)).plot(colormap='jet')"
   ]
  },
  {
   "cell_type": "code",
   "execution_count": null,
   "metadata": {
    "collapsed": false
   },
   "outputs": [],
   "source": [
    "temp2=(1-(temp/pd.rolling_max(temp,1000000,min_periods=1)).min())\n",
    "temp2.plot(kind='bar',colormap='jet',title='Max Drawdown')"
   ]
  },
  {
   "cell_type": "code",
   "execution_count": null,
   "metadata": {
    "collapsed": false
   },
   "outputs": [],
   "source": [
    "(pnl_combinations.std()*16).plot(kind='bar',colormap='jet')"
   ]
  },
  {
   "cell_type": "code",
   "execution_count": null,
   "metadata": {
    "collapsed": false
   },
   "outputs": [],
   "source": [
    "sns.heatmap(pnl_combinations.corr())"
   ]
  },
  {
   "cell_type": "code",
   "execution_count": null,
   "metadata": {
    "collapsed": false
   },
   "outputs": [],
   "source": [
    "pnl_combinations['2006':][['10,90','10,80','10,50','10,30']].cumsum().plot(colormap='jet')"
   ]
  },
  {
   "cell_type": "code",
   "execution_count": null,
   "metadata": {
    "collapsed": true
   },
   "outputs": [],
   "source": [
    "pos=tsmom_daily(df[mkts],10)\n",
    "pnl_short=calc_pnl_wc(pos,df[mkts])\n",
    "pos=tsmom_daily(df[mkts],80)\n",
    "pnl_long=calc_pnl_wc(pos,df[mkts])\n",
    "combined_pnl=(pnl_short*.5+pnl_long*.5)\n",
    "scaling_factor=calc_scaling_factor(combined_pnl)\n",
    "s_short=tsmom_daily_signal(df,10)\n",
    "s_long=tsmom_daily_signal(df,80)\n",
    "s_combined = (s_short*.5+s_long*.5)\n",
    "lots=calc_position(s_combined,FundAUM,scaling_factor,curr_px)"
   ]
  },
  {
   "cell_type": "code",
   "execution_count": null,
   "metadata": {
    "collapsed": false
   },
   "outputs": [],
   "source": [
    "mul=get_contract_multipliers()[df.columns]\n",
    "cost=cost_model_position(lots,curr_px,mul,fee=0.0003)"
   ]
  },
  {
   "cell_type": "code",
   "execution_count": null,
   "metadata": {
    "collapsed": false
   },
   "outputs": [],
   "source": [
    "(cost.sum(axis=1).resample(rule='a',how='sum')/FundAUM).plot(kind='bar',title='Cost per year')"
   ]
  },
  {
   "cell_type": "code",
   "execution_count": null,
   "metadata": {
    "collapsed": true
   },
   "outputs": [],
   "source": []
  }
 ],
 "metadata": {
  "kernelspec": {
   "display_name": "Python 2",
   "language": "python",
   "name": "python2"
  },
  "language_info": {
   "codemirror_mode": {
    "name": "ipython",
    "version": 2
   },
   "file_extension": ".py",
   "mimetype": "text/x-python",
   "name": "python",
   "nbconvert_exporter": "python",
   "pygments_lexer": "ipython2",
   "version": "2.7.12"
  }
 },
 "nbformat": 4,
 "nbformat_minor": 0
}
