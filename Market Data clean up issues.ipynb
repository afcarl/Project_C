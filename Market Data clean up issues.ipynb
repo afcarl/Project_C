{
 "cells": [
  {
   "cell_type": "code",
   "execution_count": null,
   "metadata": {
    "collapsed": false
   },
   "outputs": [],
   "source": [
    "%matplotlib inline\n",
    "from marketdata import *\n",
    "from model import *\n",
    "from analytics import *\n",
    "import pandas as pd\n",
    "import matplotlib.pyplot as plt\n",
    "import numpy as np\n",
    "import seaborn as sns\n",
    "import math\n",
    "from datetime import datetime\n",
    "\n",
    "import pylab\n",
    "sns.set(font_scale=3)\n",
    "pylab.rcParams['figure.figsize'] = (24, 18)"
   ]
  },
  {
   "cell_type": "markdown",
   "metadata": {},
   "source": [
    "# Load data \n",
    "\n",
    "Try clean up markets with 100% close out values"
   ]
  },
  {
   "cell_type": "code",
   "execution_count": null,
   "metadata": {
    "collapsed": false
   },
   "outputs": [],
   "source": [
    "list_of_markets=get_market_list()"
   ]
  },
  {
   "cell_type": "code",
   "execution_count": null,
   "metadata": {
    "collapsed": false
   },
   "outputs": [],
   "source": [
    "df=pd.DataFrame()\n",
    "for m in list_of_markets:\n",
    "    try:\n",
    "        df[m]=get_timeseries(m)\n",
    "    except:\n",
    "        print m"
   ]
  },
  {
   "cell_type": "code",
   "execution_count": null,
   "metadata": {
    "collapsed": true
   },
   "outputs": [],
   "source": [
    "def remove_inf(pnl):\n",
    "    return pnl.replace(np.inf,0).replace(-np.inf,0)"
   ]
  },
  {
   "cell_type": "code",
   "execution_count": null,
   "metadata": {
    "collapsed": false
   },
   "outputs": [],
   "source": [
    "mkts=df.T[df.count().sort_values()!=0].index"
   ]
  },
  {
   "cell_type": "code",
   "execution_count": null,
   "metadata": {
    "collapsed": false
   },
   "outputs": [],
   "source": [
    "pos=tsmom_daily(df[mkts],30)\n",
    "pnl=calc_pnl(pos,df[mkts])\n",
    "scaling_factor=calc_scaling_factor(pnl)\n",
    "portfolio= remove_inf(pnl).mean(axis=1).dropna()*scaling_factor"
   ]
  },
  {
   "cell_type": "code",
   "execution_count": null,
   "metadata": {
    "collapsed": false
   },
   "outputs": [],
   "source": [
    "calc_Sharpe(pnl).dropna().sort_values().plot(kind='bar')"
   ]
  },
  {
   "cell_type": "code",
   "execution_count": null,
   "metadata": {
    "collapsed": false
   },
   "outputs": [],
   "source": [
    "portfolio.cumsum().plot()"
   ]
  },
  {
   "cell_type": "code",
   "execution_count": null,
   "metadata": {
    "collapsed": true
   },
   "outputs": [],
   "source": [
    "\n",
    "Sigma_all=pnl.cov().dropna(how='all',axis=1).dropna(how='all')\n",
    "ind=pnl.dropna(how='all').index\n",
    "SF=[]\n",
    "for row in pnl.dropna(how='all').iterrows():\n",
    "    no_mkts=row[1].dropna().count()\n",
    "    w=np.array([1/float(no_mkts)]*no_mkts)\n",
    "    mkt_list=row[1].dropna().index\n",
    "    Sig = Sigma_all[mkt_list].T[mkt_list]\n",
    "    vol_ach=np.sqrt(np.dot(np.dot(w.T,Sig.as_matrix()),w))*16\n",
    "    SF.append(vol_target/vol_ach)\n"
   ]
  },
  {
   "cell_type": "code",
   "execution_count": null,
   "metadata": {
    "collapsed": true
   },
   "outputs": [],
   "source": []
  },
  {
   "cell_type": "code",
   "execution_count": null,
   "metadata": {
    "collapsed": true
   },
   "outputs": [],
   "source": []
  }
 ],
 "metadata": {
  "kernelspec": {
   "display_name": "Python 2",
   "language": "python",
   "name": "python2"
  },
  "language_info": {
   "codemirror_mode": {
    "name": "ipython",
    "version": 2
   },
   "file_extension": ".py",
   "mimetype": "text/x-python",
   "name": "python",
   "nbconvert_exporter": "python",
   "pygments_lexer": "ipython2",
   "version": "2.7.12"
  }
 },
 "nbformat": 4,
 "nbformat_minor": 0
}
